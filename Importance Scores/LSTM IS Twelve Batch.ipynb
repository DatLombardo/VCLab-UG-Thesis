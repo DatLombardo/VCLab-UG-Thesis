{
 "cells": [
  {
   "cell_type": "code",
   "execution_count": 40,
   "metadata": {},
   "outputs": [
    {
     "name": "stdout",
     "output_type": "stream",
     "text": [
      "\n",
      "~~~| ImportanceScore.py Execution |~~~\n",
      "Loaded dataset\n",
      "~~~| ImportanceScore.py Complete |~~~\n",
      "\n",
      "\n",
      "~~~| ImportanceScore.py Execution |~~~\n",
      "Loaded dataset\n",
      "~~~| ImportanceScore.py Complete |~~~\n",
      "\n"
     ]
    }
   ],
   "source": [
    "import torch\n",
    "import numpy as np\n",
    "import torchvision.models as models\n",
    "import ImportanceScores as ISDataloader\n",
    "import torch.nn as nn\n",
    "import matplotlib.pyplot as plt\n",
    "from torch.autograd import Variable\n",
    "import csv\n",
    "import datetime\n",
    "import random\n",
    "\n",
    "k = 4\n",
    "size = 5000\n",
    "tSize = 12\n",
    "\n",
    "ISLoader = ISDataloader.main('vidData/videoDataGA.csv', 'tensorsGA/', size) #for train dataloader\n",
    "testLoader = ISDataloader.main('vidData/videoDataFull.csv', 'tensors/', tSize) #for test dataloader\n",
    "\n",
    "def accuracy(x,y):\n",
    "    xy = 1 - (np.sum(abs(np.subtract(x,y)) > 0.05)/len(x))\n",
    "    if xy <= 0:\n",
    "        xy = 0\n",
    "    return xy\n"
   ]
  },
  {
   "cell_type": "code",
   "execution_count": 41,
   "metadata": {},
   "outputs": [
    {
     "name": "stdout",
     "output_type": "stream",
     "text": [
      "~~ Training Data ~~\n",
      "batch:  0\n",
      "batch:  1\n",
      "batch:  2\n",
      "batch:  3\n",
      "batch:  4\n",
      "batch:  5\n",
      "batch:  6\n",
      "batch:  7\n",
      "batch:  8\n",
      "batch:  9\n",
      "batch:  10\n",
      "batch:  11\n",
      "torch.Size([4, 4, 512, 7, 7])\n",
      "torch.Size([4, 4, 25088])\n",
      "tensor(0.3300)\n",
      "~~ Testing Data ~~\n",
      "batch:  0\n",
      "torch.Size([4, 4, 512, 7, 7])\n",
      "torch.Size([4, 4, 25088])\n",
      "tensor(0.5800)\n",
      "torch.Size([4, 4, 512, 7, 7])\n",
      "torch.Size([4, 4, 25088])\n",
      "tensor(0.5800)\n",
      "torch.Size([4, 4, 512, 7, 7])\n",
      "torch.Size([4, 4, 25088])\n",
      "tensor(0.3400)\n",
      "torch.Size([4, 4, 512, 7, 7])\n",
      "torch.Size([4, 4, 25088])\n",
      "tensor(0.3400)\n"
     ]
    }
   ],
   "source": [
    "\"\"\"\n",
    "Reading in data to get single batch for training\n",
    "\"\"\"\n",
    "print(\"~~ Training Data ~~\")\n",
    "batchData = []\n",
    "for batch_i, data in enumerate(ISLoader): \n",
    "    print(\"batch: \", batch_i)\n",
    "    batchData.append(data)\n",
    "    if batch_i == 11:\n",
    "        break\n",
    "        \n",
    "print(batchData[0]['video'].shape)\n",
    "flatten = batchData[0]['video'].view((4,k,-1))\n",
    "print(flatten.shape)\n",
    "print(batchData[0]['score'][0])\n",
    "    \n",
    "print(\"~~ Testing Data ~~\")\n",
    "testData = []\n",
    "for batch_i, data in enumerate(testLoader): \n",
    "    print(\"batch: \", batch_i)\n",
    "    for i in range(len(data['video'])):\n",
    "        testData = data\n",
    "        print(testData['video'].shape)\n",
    "        flatten = testData['video'].view((4,k,-1))\n",
    "        print(flatten.shape)\n",
    "        print(testData['score'][i])\n",
    "    break\n"
   ]
  },
  {
   "cell_type": "code",
   "execution_count": 47,
   "metadata": {},
   "outputs": [],
   "source": [
    "\"\"\"\n",
    "USING Sigmoid\n",
    "\"\"\"\n",
    "\n",
    "import torch.nn as nn\n",
    "from torch.nn.parameter import Parameter\n",
    "class MyModel(nn.Module):\n",
    "    def __init__(self, inputDim, outputDim, k):\n",
    "        super(MyModel, self).__init__()\n",
    "        self.lstm = torch.nn.LSTM(inputDim, outputDim, 1, True, True, 0.5);\n",
    "        self.fc = nn.Linear(outputDim, 1)\n",
    "        self.flatten_parameters()\n",
    "        self.sigmoid = nn.Sigmoid()\n",
    "        self.inputDim = inputDim\n",
    "        self.k = k\n",
    "    \n",
    "    def flatten_parameters(self):\n",
    "        self.lstm.flatten_parameters()\n",
    "        \n",
    "    def forward(self, x):\n",
    "        #x = 4 x k x (512 x 7 x 7) <- Needs to be flattened\n",
    "\n",
    "        #4 x k x 25088\n",
    "        xFlat = x.view((4,self.k,-1))\n",
    "\n",
    "        #Output from LSTM 4 x 3 x 256\n",
    "        lstmOut, _ = self.lstm(xFlat)\n",
    "        #print(lstmOut.shape)\n",
    "        lastOut = lstmOut[-1]\n",
    "        \n",
    "        sigOut = self.sigmoid(self.fc(lastOut))\n",
    "        return sigOut"
   ]
  },
  {
   "cell_type": "code",
   "execution_count": 48,
   "metadata": {
    "scrolled": true
   },
   "outputs": [
    {
     "name": "stdout",
     "output_type": "stream",
     "text": [
      "~~ Training ~~\n",
      "[0.10533066093921661, 0.08227843046188354, 0.1222766637802124, 0.007603835314512253, 0.11767767369747162, 0.16203734278678894, 0.062345001846551895, 0.08544112741947174, 0.11140449345111847, 0.09252317994832993, 0.07743917405605316, 0.05546114221215248]\n",
      "Accuracy: 0.25\n"
     ]
    },
    {
     "data": {
      "image/png": "[encoded data removed]",
      "text/plain": [
       "<matplotlib.figure.Figure at 0x7fee144b3a58>"
      ]
     },
     "metadata": {
      "needs_background": "light"
     },
     "output_type": "display_data"
    },
    {
     "name": "stdout",
     "output_type": "stream",
     "text": [
      "[4.436540621099994e-06, 3.425532122491859e-05, 1.4499951248581056e-05, 0.0008226978243328631, 0.000276899547316134, 6.260221562115476e-05, 0.0005962229333817959, 0.01992831937968731, 0.00016218237578868866, 0.0804000049829483, 0.0017560066189616919, 0.0003629476414062083]\n",
      "Accuracy: 0.9166666666666666\n"
     ]
    },
    {
     "data": {
      "image/png": "[encoded data removed]",
      "text/plain": [
       "<matplotlib.figure.Figure at 0x7fee13262160>"
      ]
     },
     "metadata": {
      "needs_background": "light"
     },
     "output_type": "display_data"
    },
    {
     "name": "stdout",
     "output_type": "stream",
     "text": [
      "Number of Enumerations:  1200\n",
      "~~ Testing ~~\n",
      "[0.58 0.58 0.34 0.34 0.58 0.58 0.34 0.34]\n",
      "[0.5227496  0.4081673  0.45758194 0.47002134 0.5227496  0.4081673\n",
      " 0.45758194 0.47002134]\n",
      "Accuracy: 0.0\n"
     ]
    },
    {
     "data": {
      "image/png": "[encoded data removed]",
      "text/plain": [
       "<matplotlib.figure.Figure at 0x7fee143f0da0>"
      ]
     },
     "metadata": {
      "needs_background": "light"
     },
     "output_type": "display_data"
    }
   ],
   "source": [
    "\"\"\"\n",
    "Using Cuda\n",
    "\n",
    "\"\"\"\n",
    "\n",
    "model = MyModel(512*7*7, 256, k).cuda()\n",
    "\n",
    "optimizer = torch.optim.SGD(model.parameters(), lr=0.01)\n",
    "loss_fn = torch.nn.MSELoss(reduction='sum').cuda()\n",
    "with open('results/twelveItem.tsv', \"w+\") as tsv_file:\n",
    "    writer = csv.writer(tsv_file, delimiter='\\t')\n",
    "    time = datetime.datetime.now()\n",
    "    writer.writerow([str(time)])\n",
    "    writer.writerow([\"~~ Training Error ~~\"])\n",
    "    enums = 0\n",
    "    num_epochs = 100\n",
    "    print(\"~~ Training ~~\")\n",
    "    for epoch in range(num_epochs):\n",
    "        errors = []\n",
    "        gtx = []\n",
    "        gty = []\n",
    "        genx = []\n",
    "        geny = []\n",
    "        for i in range(len(batchData)):\n",
    "            x = Variable(torch.tensor(batchData[i]['video'], dtype=torch.float32)).cuda()\n",
    "            y = Variable(torch.tensor(batchData[i]['score'], dtype=torch.float32)).cuda()\n",
    "            optimizer.zero_grad()\n",
    "            out = model(x)\n",
    "            loss_fn = torch.nn.MSELoss(reduction='sum').cuda()\n",
    "            error = loss_fn(out.flatten(), y).cuda()\n",
    "            if epoch % 50 == 0:\n",
    "                index = random.randint(0,3)\n",
    "                errors.append(error.item())\n",
    "                gty.append(y[index].detach().cpu().item())\n",
    "                geny.append(out[index].detach().cpu().item())\n",
    "                gtx.append(i)\n",
    "                genx.append(i)\n",
    "            enums += 1\n",
    "            error.backward()     \n",
    "            optimizer.step() \n",
    "        if epoch % 50 == 0:\n",
    "            print(errors)\n",
    "            writer.writerow([\"Epoch: \" + str(epoch) + \" Average Accuracy: \"+  str(accuracy(gty, geny))])\n",
    "            print(\"Accuracy: \" + str(accuracy(gty, geny)))\n",
    "            ax = plt.subplot(111)\n",
    "            plt.scatter(gtx, gty, c='b', marker='x', label='gt')\n",
    "            plt.scatter(genx, geny, c='r', marker='|', label='pred')\n",
    "            ax.legend(loc='best')\n",
    "            plt.xlabel(\"Item Number\")\n",
    "            plt.ylabel(\"Score\")\n",
    "            plt.ylim(0.0,1.0)\n",
    "            plt.savefig(\"Images/TwelveBatch-epoch-\"+str(epoch)+\".jpg\")\n",
    "            #plt.savefig(\"Images/\"+str(size)+\"-test.jpg\")\n",
    "            #plt.savefig(\"Images/TwelveBatch-test.jpg\")\n",
    "            plt.show()\n",
    "\n",
    "\n",
    "    print(\"Number of Enumerations: \", enums)\n",
    "    print(\"~~ Testing ~~\")\n",
    "    geny = []\n",
    "    gty = []\n",
    "    for i in range(len(testData)):\n",
    "        x = Variable(torch.tensor(testData['video'], dtype=torch.float32)).cuda()\n",
    "        y = Variable(torch.tensor(testData['score'], dtype=torch.float32)).cuda()\n",
    "        optimizer.zero_grad()\n",
    "        out = model(x)\n",
    "        loss_fn = torch.nn.MSELoss(reduction='sum').cuda()\n",
    "        error = loss_fn(out.flatten(), y).cuda()\n",
    "        #print(\"Actual: \", y.cpu().numpy())\n",
    "        #print(\"Generated: \",out.detach().flatten().cpu().numpy())\n",
    "        gty.append(y.cpu().numpy())\n",
    "        geny.append(out.detach().flatten().cpu().numpy())\n",
    "    ax = plt.subplot(111)\n",
    "    gty = np.array(gty).flatten()\n",
    "    geny = np.array(geny).flatten()\n",
    "    print(gty)\n",
    "    print(geny) \n",
    "    print(\"Accuracy: \" + str(accuracy(gty, geny)))\n",
    "    time = datetime.datetime.now()\n",
    "    writer.writerow([str(time)])\n",
    "    writer.writerow([\"~~ Testing ~~\"]) \n",
    "    writer.writerow([\"Ground Truth: \" + str(gty)])\n",
    "    writer.writerow([\"Generated: \" + str(geny)])\n",
    "    writer.writerow([\"Average Accuracy: \" +  str(accuracy(gty, geny))])\n",
    "    plt.scatter(range(len(gty)), gty, c='b', marker='x', label='gt')\n",
    "    plt.scatter(range(len(geny)), geny, c='r', marker='|', label='pred')\n",
    "    ax.legend(loc='best')\n",
    "    plt.xlabel(\"Item Number\")\n",
    "    plt.ylabel(\"Score\")\n",
    "    plt.ylim(0.0,1.0)\n",
    "    #plt.savefig(\"Images/\"+str(size)+\"-test.jpg\")\n",
    "    plt.savefig(\"Images/TwelveBatch-test.jpg\")\n",
    "    plt.show()\n",
    "\n"
   ]
  },
  {
   "cell_type": "code",
   "execution_count": null,
   "metadata": {},
   "outputs": [],
   "source": []
  }
 ],
 "metadata": {
  "kernelspec": {
   "display_name": "Python 3",
   "language": "python",
   "name": "python3"
  },
  "language_info": {
   "codemirror_mode": {
    "name": "ipython",
    "version": 3
   },
   "file_extension": ".py",
   "mimetype": "text/x-python",
   "name": "python",
   "nbconvert_exporter": "python",
   "pygments_lexer": "ipython3",
   "version": "3.6.7"
  }
 },
 "nbformat": 4,
 "nbformat_minor": 2
}
